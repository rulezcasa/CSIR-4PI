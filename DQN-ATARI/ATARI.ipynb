{
 "cells": [
  {
   "cell_type": "code",
   "execution_count": 1,
   "id": "14174dde-d451-4827-a016-4920d04a35b8",
   "metadata": {},
   "outputs": [
    {
     "name": "stdout",
     "output_type": "stream",
     "text": [
      "Requirement already satisfied: gymnasium in /home/mithun/miniconda3/lib/python3.12/site-packages (1.0.0)\n",
      "Requirement already satisfied: numpy>=1.21.0 in /home/mithun/miniconda3/lib/python3.12/site-packages (from gymnasium) (1.26.4)\n",
      "Requirement already satisfied: cloudpickle>=1.2.0 in /home/mithun/miniconda3/lib/python3.12/site-packages (from gymnasium) (3.1.1)\n",
      "Requirement already satisfied: typing-extensions>=4.3.0 in /home/mithun/miniconda3/lib/python3.12/site-packages (from gymnasium) (4.12.2)\n",
      "Requirement already satisfied: farama-notifications>=0.0.1 in /home/mithun/miniconda3/lib/python3.12/site-packages (from gymnasium) (0.0.4)\n",
      "Requirement already satisfied: ale-py in /home/mithun/miniconda3/lib/python3.12/site-packages (0.10.1)\n",
      "Requirement already satisfied: numpy>1.20 in /home/mithun/miniconda3/lib/python3.12/site-packages (from ale-py) (1.26.4)\n",
      "Requirement already satisfied: torch in /home/mithun/miniconda3/lib/python3.12/site-packages (2.5.1)\n",
      "Requirement already satisfied: filelock in /home/mithun/miniconda3/lib/python3.12/site-packages (from torch) (3.16.1)\n",
      "Requirement already satisfied: typing-extensions>=4.8.0 in /home/mithun/miniconda3/lib/python3.12/site-packages (from torch) (4.12.2)\n",
      "Requirement already satisfied: networkx in /home/mithun/miniconda3/lib/python3.12/site-packages (from torch) (3.4.2)\n",
      "Requirement already satisfied: jinja2 in /home/mithun/miniconda3/lib/python3.12/site-packages (from torch) (3.1.5)\n",
      "Requirement already satisfied: fsspec in /home/mithun/miniconda3/lib/python3.12/site-packages (from torch) (2024.12.0)\n",
      "Requirement already satisfied: nvidia-cuda-nvrtc-cu12==12.4.127 in /home/mithun/miniconda3/lib/python3.12/site-packages (from torch) (12.4.127)\n",
      "Requirement already satisfied: nvidia-cuda-runtime-cu12==12.4.127 in /home/mithun/miniconda3/lib/python3.12/site-packages (from torch) (12.4.127)\n",
      "Requirement already satisfied: nvidia-cuda-cupti-cu12==12.4.127 in /home/mithun/miniconda3/lib/python3.12/site-packages (from torch) (12.4.127)\n",
      "Requirement already satisfied: nvidia-cudnn-cu12==9.1.0.70 in /home/mithun/miniconda3/lib/python3.12/site-packages (from torch) (9.1.0.70)\n",
      "Requirement already satisfied: nvidia-cublas-cu12==12.4.5.8 in /home/mithun/miniconda3/lib/python3.12/site-packages (from torch) (12.4.5.8)\n",
      "Requirement already satisfied: nvidia-cufft-cu12==11.2.1.3 in /home/mithun/miniconda3/lib/python3.12/site-packages (from torch) (11.2.1.3)\n",
      "Requirement already satisfied: nvidia-curand-cu12==10.3.5.147 in /home/mithun/miniconda3/lib/python3.12/site-packages (from torch) (10.3.5.147)\n",
      "Requirement already satisfied: nvidia-cusolver-cu12==11.6.1.9 in /home/mithun/miniconda3/lib/python3.12/site-packages (from torch) (11.6.1.9)\n",
      "Requirement already satisfied: nvidia-cusparse-cu12==12.3.1.170 in /home/mithun/miniconda3/lib/python3.12/site-packages (from torch) (12.3.1.170)\n",
      "Requirement already satisfied: nvidia-nccl-cu12==2.21.5 in /home/mithun/miniconda3/lib/python3.12/site-packages (from torch) (2.21.5)\n",
      "Requirement already satisfied: nvidia-nvtx-cu12==12.4.127 in /home/mithun/miniconda3/lib/python3.12/site-packages (from torch) (12.4.127)\n",
      "Requirement already satisfied: nvidia-nvjitlink-cu12==12.4.127 in /home/mithun/miniconda3/lib/python3.12/site-packages (from torch) (12.4.127)\n",
      "Requirement already satisfied: triton==3.1.0 in /home/mithun/miniconda3/lib/python3.12/site-packages (from torch) (3.1.0)\n",
      "Requirement already satisfied: setuptools in /home/mithun/miniconda3/lib/python3.12/site-packages (from torch) (75.1.0)\n",
      "Requirement already satisfied: sympy==1.13.1 in /home/mithun/miniconda3/lib/python3.12/site-packages (from torch) (1.13.1)\n",
      "Requirement already satisfied: mpmath<1.4,>=1.1.0 in /home/mithun/miniconda3/lib/python3.12/site-packages (from sympy==1.13.1->torch) (1.3.0)\n",
      "Requirement already satisfied: MarkupSafe>=2.0 in /home/mithun/miniconda3/lib/python3.12/site-packages (from jinja2->torch) (3.0.2)\n",
      "Requirement already satisfied: stable-baselines3 in /home/mithun/miniconda3/lib/python3.12/site-packages (2.4.1)\n",
      "Requirement already satisfied: gymnasium<1.1.0,>=0.29.1 in /home/mithun/miniconda3/lib/python3.12/site-packages (from stable-baselines3) (1.0.0)\n",
      "Requirement already satisfied: numpy<2.0,>=1.20 in /home/mithun/miniconda3/lib/python3.12/site-packages (from stable-baselines3) (1.26.4)\n",
      "Requirement already satisfied: torch>=1.13 in /home/mithun/miniconda3/lib/python3.12/site-packages (from stable-baselines3) (2.5.1)\n",
      "Requirement already satisfied: cloudpickle in /home/mithun/miniconda3/lib/python3.12/site-packages (from stable-baselines3) (3.1.1)\n",
      "Requirement already satisfied: pandas in /home/mithun/miniconda3/lib/python3.12/site-packages (from stable-baselines3) (2.2.3)\n",
      "Requirement already satisfied: matplotlib in /home/mithun/miniconda3/lib/python3.12/site-packages (from stable-baselines3) (3.10.0)\n",
      "Requirement already satisfied: typing-extensions>=4.3.0 in /home/mithun/miniconda3/lib/python3.12/site-packages (from gymnasium<1.1.0,>=0.29.1->stable-baselines3) (4.12.2)\n",
      "Requirement already satisfied: farama-notifications>=0.0.1 in /home/mithun/miniconda3/lib/python3.12/site-packages (from gymnasium<1.1.0,>=0.29.1->stable-baselines3) (0.0.4)\n",
      "Requirement already satisfied: filelock in /home/mithun/miniconda3/lib/python3.12/site-packages (from torch>=1.13->stable-baselines3) (3.16.1)\n",
      "Requirement already satisfied: networkx in /home/mithun/miniconda3/lib/python3.12/site-packages (from torch>=1.13->stable-baselines3) (3.4.2)\n",
      "Requirement already satisfied: jinja2 in /home/mithun/miniconda3/lib/python3.12/site-packages (from torch>=1.13->stable-baselines3) (3.1.5)\n",
      "Requirement already satisfied: fsspec in /home/mithun/miniconda3/lib/python3.12/site-packages (from torch>=1.13->stable-baselines3) (2024.12.0)\n",
      "Requirement already satisfied: nvidia-cuda-nvrtc-cu12==12.4.127 in /home/mithun/miniconda3/lib/python3.12/site-packages (from torch>=1.13->stable-baselines3) (12.4.127)\n",
      "Requirement already satisfied: nvidia-cuda-runtime-cu12==12.4.127 in /home/mithun/miniconda3/lib/python3.12/site-packages (from torch>=1.13->stable-baselines3) (12.4.127)\n",
      "Requirement already satisfied: nvidia-cuda-cupti-cu12==12.4.127 in /home/mithun/miniconda3/lib/python3.12/site-packages (from torch>=1.13->stable-baselines3) (12.4.127)\n",
      "Requirement already satisfied: nvidia-cudnn-cu12==9.1.0.70 in /home/mithun/miniconda3/lib/python3.12/site-packages (from torch>=1.13->stable-baselines3) (9.1.0.70)\n",
      "Requirement already satisfied: nvidia-cublas-cu12==12.4.5.8 in /home/mithun/miniconda3/lib/python3.12/site-packages (from torch>=1.13->stable-baselines3) (12.4.5.8)\n",
      "Requirement already satisfied: nvidia-cufft-cu12==11.2.1.3 in /home/mithun/miniconda3/lib/python3.12/site-packages (from torch>=1.13->stable-baselines3) (11.2.1.3)\n",
      "Requirement already satisfied: nvidia-curand-cu12==10.3.5.147 in /home/mithun/miniconda3/lib/python3.12/site-packages (from torch>=1.13->stable-baselines3) (10.3.5.147)\n",
      "Requirement already satisfied: nvidia-cusolver-cu12==11.6.1.9 in /home/mithun/miniconda3/lib/python3.12/site-packages (from torch>=1.13->stable-baselines3) (11.6.1.9)\n",
      "Requirement already satisfied: nvidia-cusparse-cu12==12.3.1.170 in /home/mithun/miniconda3/lib/python3.12/site-packages (from torch>=1.13->stable-baselines3) (12.3.1.170)\n",
      "Requirement already satisfied: nvidia-nccl-cu12==2.21.5 in /home/mithun/miniconda3/lib/python3.12/site-packages (from torch>=1.13->stable-baselines3) (2.21.5)\n",
      "Requirement already satisfied: nvidia-nvtx-cu12==12.4.127 in /home/mithun/miniconda3/lib/python3.12/site-packages (from torch>=1.13->stable-baselines3) (12.4.127)\n",
      "Requirement already satisfied: nvidia-nvjitlink-cu12==12.4.127 in /home/mithun/miniconda3/lib/python3.12/site-packages (from torch>=1.13->stable-baselines3) (12.4.127)\n",
      "Requirement already satisfied: triton==3.1.0 in /home/mithun/miniconda3/lib/python3.12/site-packages (from torch>=1.13->stable-baselines3) (3.1.0)\n",
      "Requirement already satisfied: setuptools in /home/mithun/miniconda3/lib/python3.12/site-packages (from torch>=1.13->stable-baselines3) (75.1.0)\n",
      "Requirement already satisfied: sympy==1.13.1 in /home/mithun/miniconda3/lib/python3.12/site-packages (from torch>=1.13->stable-baselines3) (1.13.1)\n",
      "Requirement already satisfied: mpmath<1.4,>=1.1.0 in /home/mithun/miniconda3/lib/python3.12/site-packages (from sympy==1.13.1->torch>=1.13->stable-baselines3) (1.3.0)\n",
      "Requirement already satisfied: contourpy>=1.0.1 in /home/mithun/miniconda3/lib/python3.12/site-packages (from matplotlib->stable-baselines3) (1.3.1)\n",
      "Requirement already satisfied: cycler>=0.10 in /home/mithun/miniconda3/lib/python3.12/site-packages (from matplotlib->stable-baselines3) (0.12.1)\n",
      "Requirement already satisfied: fonttools>=4.22.0 in /home/mithun/miniconda3/lib/python3.12/site-packages (from matplotlib->stable-baselines3) (4.55.3)\n",
      "Requirement already satisfied: kiwisolver>=1.3.1 in /home/mithun/miniconda3/lib/python3.12/site-packages (from matplotlib->stable-baselines3) (1.4.8)\n",
      "Requirement already satisfied: packaging>=20.0 in /home/mithun/miniconda3/lib/python3.12/site-packages (from matplotlib->stable-baselines3) (24.1)\n",
      "Requirement already satisfied: pillow>=8 in /home/mithun/miniconda3/lib/python3.12/site-packages (from matplotlib->stable-baselines3) (10.4.0)\n",
      "Requirement already satisfied: pyparsing>=2.3.1 in /home/mithun/miniconda3/lib/python3.12/site-packages (from matplotlib->stable-baselines3) (3.2.1)\n",
      "Requirement already satisfied: python-dateutil>=2.7 in /home/mithun/miniconda3/lib/python3.12/site-packages (from matplotlib->stable-baselines3) (2.9.0.post0)\n",
      "Requirement already satisfied: pytz>=2020.1 in /home/mithun/miniconda3/lib/python3.12/site-packages (from pandas->stable-baselines3) (2024.2)\n",
      "Requirement already satisfied: tzdata>=2022.7 in /home/mithun/miniconda3/lib/python3.12/site-packages (from pandas->stable-baselines3) (2024.2)\n",
      "Requirement already satisfied: six>=1.5 in /home/mithun/miniconda3/lib/python3.12/site-packages (from python-dateutil>=2.7->matplotlib->stable-baselines3) (1.17.0)\n",
      "Requirement already satisfied: MarkupSafe>=2.0 in /home/mithun/miniconda3/lib/python3.12/site-packages (from jinja2->torch>=1.13->stable-baselines3) (3.0.2)\n"
     ]
    }
   ],
   "source": [
    "!pip install gymnasium\n",
    "!pip install ale-py\n",
    "!pip install torch\n",
    "!pip install stable-baselines3"
   ]
  },
  {
   "cell_type": "code",
   "execution_count": 2,
   "id": "f20d8c65-7ea7-4c38-93e8-55dc69639b0b",
   "metadata": {},
   "outputs": [
    {
     "name": "stdout",
     "output_type": "stream",
     "text": [
      "Requirement already satisfied: wandb in /home/mithun/miniconda3/lib/python3.12/site-packages (0.19.4)\n",
      "Requirement already satisfied: click!=8.0.0,>=7.1 in /home/mithun/miniconda3/lib/python3.12/site-packages (from wandb) (8.1.8)\n",
      "Requirement already satisfied: docker-pycreds>=0.4.0 in /home/mithun/miniconda3/lib/python3.12/site-packages (from wandb) (0.4.0)\n",
      "Requirement already satisfied: gitpython!=3.1.29,>=1.0.0 in /home/mithun/miniconda3/lib/python3.12/site-packages (from wandb) (3.1.44)\n",
      "Requirement already satisfied: platformdirs in /home/mithun/miniconda3/lib/python3.12/site-packages (from wandb) (3.10.0)\n",
      "Requirement already satisfied: protobuf!=4.21.0,!=5.28.0,<6,>=3.19.0 in /home/mithun/miniconda3/lib/python3.12/site-packages (from wandb) (5.29.3)\n",
      "Requirement already satisfied: psutil>=5.0.0 in /home/mithun/miniconda3/lib/python3.12/site-packages (from wandb) (6.1.1)\n",
      "Requirement already satisfied: pydantic<3,>=2.6 in /home/mithun/miniconda3/lib/python3.12/site-packages (from wandb) (2.10.5)\n",
      "Requirement already satisfied: pyyaml in /home/mithun/miniconda3/lib/python3.12/site-packages (from wandb) (6.0.2)\n",
      "Requirement already satisfied: requests<3,>=2.0.0 in /home/mithun/miniconda3/lib/python3.12/site-packages (from wandb) (2.32.3)\n",
      "Requirement already satisfied: sentry-sdk>=2.0.0 in /home/mithun/miniconda3/lib/python3.12/site-packages (from wandb) (2.20.0)\n",
      "Requirement already satisfied: setproctitle in /home/mithun/miniconda3/lib/python3.12/site-packages (from wandb) (1.3.4)\n",
      "Requirement already satisfied: setuptools in /home/mithun/miniconda3/lib/python3.12/site-packages (from wandb) (75.1.0)\n",
      "Requirement already satisfied: six>=1.4.0 in /home/mithun/miniconda3/lib/python3.12/site-packages (from docker-pycreds>=0.4.0->wandb) (1.17.0)\n",
      "Requirement already satisfied: gitdb<5,>=4.0.1 in /home/mithun/miniconda3/lib/python3.12/site-packages (from gitpython!=3.1.29,>=1.0.0->wandb) (4.0.12)\n",
      "Requirement already satisfied: annotated-types>=0.6.0 in /home/mithun/miniconda3/lib/python3.12/site-packages (from pydantic<3,>=2.6->wandb) (0.7.0)\n",
      "Requirement already satisfied: pydantic-core==2.27.2 in /home/mithun/miniconda3/lib/python3.12/site-packages (from pydantic<3,>=2.6->wandb) (2.27.2)\n",
      "Requirement already satisfied: typing-extensions>=4.12.2 in /home/mithun/miniconda3/lib/python3.12/site-packages (from pydantic<3,>=2.6->wandb) (4.12.2)\n",
      "Requirement already satisfied: charset-normalizer<4,>=2 in /home/mithun/miniconda3/lib/python3.12/site-packages (from requests<3,>=2.0.0->wandb) (3.3.2)\n",
      "Requirement already satisfied: idna<4,>=2.5 in /home/mithun/miniconda3/lib/python3.12/site-packages (from requests<3,>=2.0.0->wandb) (3.7)\n",
      "Requirement already satisfied: urllib3<3,>=1.21.1 in /home/mithun/miniconda3/lib/python3.12/site-packages (from requests<3,>=2.0.0->wandb) (2.2.3)\n",
      "Requirement already satisfied: certifi>=2017.4.17 in /home/mithun/miniconda3/lib/python3.12/site-packages (from requests<3,>=2.0.0->wandb) (2024.8.30)\n",
      "Requirement already satisfied: smmap<6,>=3.0.1 in /home/mithun/miniconda3/lib/python3.12/site-packages (from gitdb<5,>=4.0.1->gitpython!=3.1.29,>=1.0.0->wandb) (5.0.2)\n"
     ]
    }
   ],
   "source": [
    "!pip install wandb"
   ]
  },
  {
   "cell_type": "code",
   "execution_count": 1,
   "id": "ffa8311a-91f9-4d7d-a3f0-a97af5eee87b",
   "metadata": {},
   "outputs": [],
   "source": [
    "import os\n",
    "import random\n",
    "import time\n",
    "import gymnasium as gym\n",
    "import numpy as np\n",
    "import torch\n",
    "import torch.nn as nn\n",
    "import torch.nn.functional as F\n",
    "import torch.optim as optim\n",
    "from stable_baselines3.common.atari_wrappers import (\n",
    "    ClipRewardEnv,\n",
    "    EpisodicLifeEnv,\n",
    "    FireResetEnv,\n",
    "    MaxAndSkipEnv,\n",
    "    NoopResetEnv\n",
    ")\n",
    "from stable_baselines3.common.buffers import ReplayBuffer\n",
    "from torch.utils.tensorboard import SummaryWriter\n",
    "import ale_py"
   ]
  },
  {
   "cell_type": "code",
   "execution_count": 2,
   "id": "c4c57f19-11b7-40c7-8b89-78c1a5f0538c",
   "metadata": {},
   "outputs": [],
   "source": [
    "gym.register_envs(ale_py)"
   ]
  },
  {
   "cell_type": "code",
   "execution_count": 3,
   "id": "7090d2d4-c013-4f12-b54a-e67cfbc6e60e",
   "metadata": {},
   "outputs": [],
   "source": [
    "from gymnasium.wrappers import GrayscaleObservation"
   ]
  },
  {
   "cell_type": "code",
   "execution_count": 4,
   "id": "f8b05f7a-733a-4b71-bf09-dfc51b30ab8a",
   "metadata": {},
   "outputs": [],
   "source": [
    "env_id = \"ALE/MsPacman-v5\"      # The environment to train on\n",
    "seed = 1                               # Random seed for reproducibility\n",
    "total_timesteps = 10000000             # Total timesteps to run the training\n",
    "learning_rate = 1e-4                   # Learning rate for the optimizer\n",
    "num_envs = 1                           # Number of parallel environments\n",
    "buffer_size = 1000000                  # Size of the replay buffer\n",
    "gamma = 0.99                           # Discount factor\n",
    "tau = 1.0                              # Target network update rate\n",
    "target_network_frequency = 1000        # Timesteps to update target network\n",
    "batch_size = 32                        # Batch size for training\n",
    "start_e = 1                            # Starting epsilon for exploration\n",
    "end_e = 0.01                           # Ending epsilon for exploration\n",
    "exploration_fraction = 0.10            # Fraction of timesteps to decay epsilon\n",
    "learning_starts = 80000                # Timesteps before starting training\n",
    "train_frequency = 4                    # Frequency of training"
   ]
  },
  {
   "cell_type": "code",
   "execution_count": 5,
   "id": "2165ab4b-7acd-4c27-bd80-62800950c68e",
   "metadata": {},
   "outputs": [],
   "source": [
    "def make_env(env_id, seed, idx, capture_video=False, run_name=\"\"):\n",
    "    def thunk():\n",
    "        if capture_video and idx == 0:\n",
    "            env = gym.make(env_id, render_mode=\"rgb_array\")\n",
    "            env = gym.wrappers.RecordVideo(env, f\"videos/{run_name}\")\n",
    "        else:\n",
    "            env = gym.make(env_id)\n",
    "\n",
    "        env = gym.wrappers.RecordEpisodeStatistics(env)\n",
    "        env = NoopResetEnv(env, noop_max=30)\n",
    "        env = MaxAndSkipEnv(env, skip=4)\n",
    "        env = EpisodicLifeEnv(env)\n",
    "\n",
    "        if \"FIRE\" in env.unwrapped.get_action_meanings():\n",
    "            env = FireResetEnv(env)\n",
    "\n",
    "        env = ClipRewardEnv(env)\n",
    "        env = gym.wrappers.ResizeObservation(env, (84, 84))\n",
    "        env = gym.wrappers.GrayscaleObservation(env)\n",
    "        env = gym.wrappers.FrameStackObservation(env, 4)\n",
    "        env.action_space.seed(seed)\n",
    "\n",
    "        return env\n",
    "\n",
    "    return thunk"
   ]
  },
  {
   "cell_type": "code",
   "execution_count": 6,
   "id": "901aeb1b-846b-4e9a-83b8-ff8b6d2b37a0",
   "metadata": {},
   "outputs": [],
   "source": [
    "class QNetwork(nn.Module):\n",
    "    def __init__(self, env):\n",
    "        super().__init__()\n",
    "        self.network = nn.Sequential(\n",
    "            nn.Conv2d(4, 32, 8, stride=4),\n",
    "            nn.ReLU(),\n",
    "            nn.Conv2d(32, 64, 4, stride=2),\n",
    "            nn.ReLU(),\n",
    "            nn.Conv2d(64, 64, 3, stride=1),\n",
    "            nn.ReLU(),\n",
    "            nn.Flatten(),\n",
    "            nn.Linear(3136, 512),\n",
    "            nn.ReLU(),\n",
    "            nn.Linear(512, env.single_action_space.n),\n",
    "        )\n",
    "\n",
    "    def forward(self, x):\n",
    "        return self.network(x / 255.0)"
   ]
  },
  {
   "cell_type": "code",
   "execution_count": 7,
   "id": "a2762271-b244-485d-a365-e4651e751961",
   "metadata": {},
   "outputs": [],
   "source": [
    "  # ---- Exploration Schedule ---- #\n",
    "  def linear_schedule(start_e: float, end_e: float, duration: int, t: int):\n",
    "      slope = (end_e - start_e) / duration\n",
    "      return max(slope * t + start_e, end_e)"
   ]
  },
  {
   "cell_type": "code",
   "execution_count": null,
   "id": "3f5b7e91-cb0e-4ab6-a2f6-71e2115f1a1d",
   "metadata": {},
   "outputs": [
    {
     "name": "stderr",
     "output_type": "stream",
     "text": [
      "Failed to detect the name of this notebook, you can set it manually with the WANDB_NOTEBOOK_NAME environment variable to enable code saving.\n",
      "\u001b[34m\u001b[1mwandb\u001b[0m: Currently logged in as: \u001b[33mcasarulez\u001b[0m (\u001b[33mHarish-Personal\u001b[0m). Use \u001b[1m`wandb login --relogin`\u001b[0m to force relogin\n",
      "\u001b[34m\u001b[1mwandb\u001b[0m: Using wandb-core as the SDK backend.  Please refer to https://wandb.me/wandb-core for more information.\n"
     ]
    },
    {
     "data": {
      "text/html": [
       "Tracking run with wandb version 0.19.2"
      ],
      "text/plain": [
       "<IPython.core.display.HTML object>"
      ]
     },
     "metadata": {},
     "output_type": "display_data"
    },
    {
     "data": {
      "text/html": [
       "Run data is saved locally in <code>/home/mithun/Harish-SparkIntern/wandb/run-20250120_120946-sq4dykb9</code>"
      ],
      "text/plain": [
       "<IPython.core.display.HTML object>"
      ]
     },
     "metadata": {},
     "output_type": "display_data"
    },
    {
     "data": {
      "text/html": [
       "Syncing run <strong><a href='https://wandb.ai/Harish-Personal/ATARI-RL/runs/sq4dykb9' target=\"_blank\">CSIR-GPU_run</a></strong> to <a href='https://wandb.ai/Harish-Personal/ATARI-RL' target=\"_blank\">Weights & Biases</a> (<a href='https://wandb.me/developer-guide' target=\"_blank\">docs</a>)<br>"
      ],
      "text/plain": [
       "<IPython.core.display.HTML object>"
      ]
     },
     "metadata": {},
     "output_type": "display_data"
    },
    {
     "data": {
      "text/html": [
       " View project at <a href='https://wandb.ai/Harish-Personal/ATARI-RL' target=\"_blank\">https://wandb.ai/Harish-Personal/ATARI-RL</a>"
      ],
      "text/plain": [
       "<IPython.core.display.HTML object>"
      ]
     },
     "metadata": {},
     "output_type": "display_data"
    },
    {
     "data": {
      "text/html": [
       " View run at <a href='https://wandb.ai/Harish-Personal/ATARI-RL/runs/sq4dykb9' target=\"_blank\">https://wandb.ai/Harish-Personal/ATARI-RL/runs/sq4dykb9</a>"
      ],
      "text/plain": [
       "<IPython.core.display.HTML object>"
      ]
     },
     "metadata": {},
     "output_type": "display_data"
    },
    {
     "name": "stderr",
     "output_type": "stream",
     "text": [
      "A.L.E: Arcade Learning Environment (version 0.10.1+unknown)\n",
      "[Powered by Stella]\n",
      "Training Progress:   0%| | 30885/10000000 [01:06<5:59:27, 462.22steps/s, episodi"
     ]
    }
   ],
   "source": [
    "# ---- WandB Setup ---- #\n",
    "import wandb\n",
    "\n",
    "run_name=\"CSIR-GPU_run\"\n",
    "\n",
    "wandb.init(\n",
    "    project=\"ATARI-RL\",\n",
    "    name=run_name,\n",
    "    config={\n",
    "        \"env_id\": env_id,\n",
    "        \"seed\": seed,\n",
    "        \"learning_rate\": learning_rate,\n",
    "        \"buffer_size\": buffer_size,\n",
    "        \"batch_size\": batch_size,\n",
    "        \"gamma\": gamma,\n",
    "        \"tau\": tau,\n",
    "        \"train_frequency\": train_frequency,\n",
    "        \"exploration_fraction\": exploration_fraction,\n",
    "        \"start_e\": start_e,\n",
    "        \"end_e\": end_e,\n",
    "        \"total_timesteps\": total_timesteps,\n",
    "    }\n",
    ")\n",
    "\n",
    "# ---- Training and Evaluation ---- #\n",
    "# Setting up TensorBoard for logging\n",
    "from tqdm import tqdm\n",
    "\n",
    "writer = SummaryWriter(f\"runs/{run_name}\")\n",
    "writer.add_text(\"hyperparameters\", f\"|param|value|\\n|-|-|\\n\" + \"\\n\".join([f\"|{key}|{value}|\" for key, value in locals().items()]))\n",
    "\n",
    "random.seed(seed)\n",
    "np.random.seed(seed)\n",
    "torch.manual_seed(seed)\n",
    "torch.backends.cudnn.deterministic = True\n",
    "\n",
    "# Setup device\n",
    "device = torch.device(\"cuda\")\n",
    "\n",
    "# Create Environment\n",
    "envs = gym.vector.SyncVectorEnv(\n",
    "    [make_env(env_id, seed + i, i, capture_video=False, run_name=run_name) for i in range(num_envs)]\n",
    ")\n",
    "\n",
    "q_network = QNetwork(envs).to(device)\n",
    "optimizer = optim.Adam(q_network.parameters(), lr=learning_rate)\n",
    "target_network = QNetwork(envs).to(device)\n",
    "target_network.load_state_dict(q_network.state_dict())\n",
    "\n",
    "# Setup Replay Buffer\n",
    "rb = ReplayBuffer(\n",
    "    buffer_size,\n",
    "    envs.single_observation_space,\n",
    "    envs.single_action_space,\n",
    "    device,\n",
    "    optimize_memory_usage=True,\n",
    "    handle_timeout_termination=False\n",
    ")\n",
    "\n",
    "# ---- Training Loop ---- #\n",
    "start_time = time.time()\n",
    "obs, _ = envs.reset(seed=seed)\n",
    "\n",
    "# Initialize tqdm progress bar\n",
    "with tqdm(total=total_timesteps, desc=\"Training Progress\", unit=\"steps\") as pbar:\n",
    "    for global_step in range(total_timesteps):\n",
    "        epsilon = linear_schedule(start_e, end_e, exploration_fraction * total_timesteps, global_step)\n",
    "\n",
    "        if random.random() < epsilon:\n",
    "            actions = np.array([envs.single_action_space.sample() for _ in range(envs.num_envs)])\n",
    "        else:\n",
    "            q_values = q_network(torch.Tensor(obs).to(device))\n",
    "            actions = torch.argmax(q_values, dim=1).cpu().numpy()\n",
    "\n",
    "        next_obs, rewards, terminated, truncated, infos = envs.step(actions)\n",
    "\n",
    "        if \"final_info\" in infos:\n",
    "            for info in infos[\"final_info\"]:\n",
    "                if \"episode\" not in info:\n",
    "                    continue\n",
    "                episodic_return = info['episode']['r']\n",
    "                episode_length = info['episode']['l']\n",
    "\n",
    "                writer.add_scalar(\"charts/episodic_return\", episodic_return, global_step)\n",
    "                writer.add_scalar(\"charts/episode_length\", episode_length, global_step)\n",
    "                writer.add_scalar(\"charts/epsilon\", epsilon, global_step)\n",
    "\n",
    "                # Log to WandB\n",
    "                wandb.log({\n",
    "                    \"episodic_return\": episodic_return,\n",
    "                    \"episode_length\": episode_length,\n",
    "                    \"epsilon\": epsilon,\n",
    "                    \"global_step\": global_step,\n",
    "                })\n",
    "\n",
    "        real_next_obs = next_obs.copy()\n",
    "        for idx, d in enumerate(truncated):\n",
    "            if d:\n",
    "                real_next_obs[idx] = infos[\"final_observation\"][idx]\n",
    "        rb.add(obs, real_next_obs, actions, rewards, terminated, infos)\n",
    "\n",
    "        obs = next_obs\n",
    "\n",
    "        if global_step > learning_starts:\n",
    "            if global_step % train_frequency == 0:\n",
    "                data = rb.sample(batch_size)\n",
    "                with torch.no_grad():\n",
    "                    target_max, _ = target_network(data.next_observations).max(dim=1)\n",
    "                    td_target = data.rewards.flatten() + gamma * target_max * (1 - data.dones.flatten())\n",
    "                old_val = q_network(data.observations).gather(1, data.actions).squeeze()\n",
    "                loss = F.mse_loss(td_target, old_val)\n",
    "\n",
    "                if global_step % 100 == 0:\n",
    "                    writer.add_scalar(\"losses/td_loss\", loss, global_step)\n",
    "                    writer.add_scalar(\"charts/SPS\", int(global_step / (time.time() - start_time)), global_step)\n",
    "\n",
    "                    # Log to WandB\n",
    "                    wandb.log({\n",
    "                        \"td_loss\": loss.item(),\n",
    "                        \"SPS\": int(global_step / (time.time() - start_time)),\n",
    "                        \"global_step\": global_step,\n",
    "                    })\n",
    "\n",
    "                optimizer.zero_grad()\n",
    "                loss.backward()\n",
    "                optimizer.step()\n",
    "\n",
    "            if global_step % target_network_frequency == 0:\n",
    "                for target_param, param in zip(target_network.parameters(), q_network.parameters()):\n",
    "                    target_param.data.copy_(\n",
    "                        tau * param.data + (1.0 - tau) * target_param.data\n",
    "                    )\n",
    "\n",
    "        # Update tqdm progress bar with additional metrics\n",
    "        pbar.set_postfix({\n",
    "            \"episodic_return\": episodic_return if \"episodic_return\" in locals() else 0,\n",
    "            \"epsilon\": epsilon,\n",
    "            \"SPS\": int(global_step / (time.time() - start_time))\n",
    "        })\n",
    "        pbar.update(1)\n",
    "\n",
    "# ---- Save Model ---- #\n",
    "model_path = f\"runs/{run_name}/dqn_model.pth\"\n",
    "torch.save(q_network.state_dict(), model_path)\n",
    "wandb.save(model_path)\n",
    "print(f\"Model saved to {model_path} and uploaded to WandB\")\n",
    "\n",
    "envs.close()\n",
    "writer.close()\n",
    "wandb.finish()"
   ]
  }
 ],
 "metadata": {
  "kernelspec": {
   "display_name": "ATARI-HARISH",
   "language": "python",
   "name": "atari-harish"
  },
  "language_info": {
   "codemirror_mode": {
    "name": "ipython",
    "version": 3
   },
   "file_extension": ".py",
   "mimetype": "text/x-python",
   "name": "python",
   "nbconvert_exporter": "python",
   "pygments_lexer": "ipython3",
   "version": "3.13.1"
  }
 },
 "nbformat": 4,
 "nbformat_minor": 5
}
