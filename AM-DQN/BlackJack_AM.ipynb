{
 "cells": [
  {
   "cell_type": "markdown",
   "id": "103f8c14-fb82-4c8b-98f0-bb8698dc24da",
   "metadata": {},
   "source": [
    "## Importing depedencies"
   ]
  },
  {
   "cell_type": "code",
   "execution_count": 1,
   "id": "ef06e65b-1822-4510-b513-afdb9028f54f",
   "metadata": {},
   "outputs": [],
   "source": [
    "import os\n",
    "import random\n",
    "import time\n",
    "import gymnasium as gym\n",
    "import numpy as np\n",
    "import torch\n",
    "import torch.nn as nn\n",
    "import torch.nn.functional as F\n",
    "import torch.optim as optim\n",
    "from stable_baselines3.common.atari_wrappers import (\n",
    "    ClipRewardEnv,\n",
    "    EpisodicLifeEnv,\n",
    "    FireResetEnv,\n",
    "    MaxAndSkipEnv,\n",
    "    NoopResetEnv\n",
    ")\n",
    "from stable_baselines3.common.buffers import ReplayBuffer\n",
    "from torch.utils.tensorboard import SummaryWriter\n",
    "import ale_py"
   ]
  },
  {
   "cell_type": "markdown",
   "id": "21612ab8-49f3-49fe-b9fe-841f84fed217",
   "metadata": {},
   "source": [
    "## Initializing the Blackjack environment"
   ]
  },
  {
   "cell_type": "code",
   "execution_count": 2,
   "id": "be6c37ac-e91d-40b7-ad22-3b345e55b019",
   "metadata": {},
   "outputs": [
    {
     "data": {
      "text/plain": [
       "<OrderEnforcing<PassiveEnvChecker<BlackjackEnv<Blackjack-v1>>>>"
      ]
     },
     "execution_count": 2,
     "metadata": {},
     "output_type": "execute_result"
    }
   ],
   "source": [
    "gym.make('Blackjack-v1', natural=False, sab=False)"
   ]
  },
  {
   "cell_type": "code",
   "execution_count": null,
   "id": "7f77550f-7fbb-480a-8e6f-99ef22ae6c4f",
   "metadata": {},
   "outputs": [],
   "source": []
  }
 ],
 "metadata": {
  "kernelspec": {
   "display_name": "ATARI-HARISH",
   "language": "python",
   "name": "atari-harish"
  },
  "language_info": {
   "codemirror_mode": {
    "name": "ipython",
    "version": 3
   },
   "file_extension": ".py",
   "mimetype": "text/x-python",
   "name": "python",
   "nbconvert_exporter": "python",
   "pygments_lexer": "ipython3",
   "version": "3.13.1"
  }
 },
 "nbformat": 4,
 "nbformat_minor": 5
}
